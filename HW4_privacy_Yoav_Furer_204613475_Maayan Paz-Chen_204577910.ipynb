{
 "cells": [
  {
   "cell_type": "markdown",
   "metadata": {},
   "source": [
    "# HW4 "
   ]
  },
  {
   "cell_type": "markdown",
   "metadata": {},
   "source": [
    "Submitter: Yoav_Furer_204613475_Maayan Paz-Chen_204577910"
   ]
  },
  {
   "cell_type": "code",
   "execution_count": 1,
   "metadata": {},
   "outputs": [],
   "source": [
    "from sklearn.model_selection import train_test_split\n",
    "from sklearn import linear_model\n",
    "from sklearn.metrics import mean_squared_error\n",
    "import matplotlib.pyplot as plt\n",
    "import pandas as pd\n",
    "import numpy as np\n",
    "# import random\n",
    "from sklearn.preprocessing import PolynomialFeatures\n",
    "from sklearn.linear_model import LinearRegression\n",
    "# from sklearn.preprocessing import LabelEncoder\n",
    "import seaborn as sns"
   ]
  },
  {
   "cell_type": "markdown",
   "metadata": {},
   "source": [
    "# Read data"
   ]
  },
  {
   "cell_type": "code",
   "execution_count": 2,
   "metadata": {},
   "outputs": [],
   "source": [
    "bank = pd.read_csv('bank-full.csv')\n",
    "heart = pd.read_csv('heart_2020_cleaned.csv')"
   ]
  },
  {
   "cell_type": "markdown",
   "metadata": {},
   "source": [
    "#step 1: find which column fits for generalization"
   ]
  },
  {
   "cell_type": "code",
   "execution_count": 3,
   "metadata": {},
   "outputs": [],
   "source": [
    "def find_col(dt):\n",
    "    dic = {}\n",
    "    for col in dt.columns:\n",
    "        dic.update({col : dt[col].unique().size})\n",
    "    dic = sorted(dic.items(), key=lambda x: x[1],reverse=True)\n",
    "    return dic[0] #returning the column with highest number of unique values\n",
    "    "
   ]
  },
  {
   "cell_type": "markdown",
   "metadata": {},
   "source": [
    "# Finding the k-anonimity\n"
   ]
  },
  {
   "cell_type": "code",
   "execution_count": 4,
   "metadata": {},
   "outputs": [],
   "source": [
    "def find_k_anonimity(df):\n",
    "    k =  df.groupby(df.columns.tolist(),as_index=False).size()['size'].min()\n",
    "    return k "
   ]
  },
  {
   "cell_type": "code",
   "execution_count": 5,
   "metadata": {},
   "outputs": [],
   "source": [
    "# Validation- Method to calculate number of rows in each group(=identical rows) and and write to csv. \n",
    "\n",
    "def CalclateHowManyRowsContainEachGroup(df):\n",
    "    \n",
    "    x= df.value_counts().reset_index(name='counts')\n",
    "    x.to_csv(\"new.csv\")\n",
    "    \n",
    "    #print how many rows included in each group\n",
    "    print(x.groupby('counts')['counts'].sum())\n",
    "    total = x['counts'].sum()\n",
    "    print(total)"
   ]
  },
  {
   "cell_type": "markdown",
   "metadata": {},
   "source": [
    "# Perform Linear Regression\n",
    "\n",
    "step 5: linear regression and announce mse"
   ]
  },
  {
   "cell_type": "code",
   "execution_count": 6,
   "metadata": {},
   "outputs": [],
   "source": [
    "# https://pbpython.com/categorical-encoding.html\n",
    "\n",
    "def prepareToLinearReg(df):\n",
    "    \n",
    "    dt = df\n",
    "    dt[dt.select_dtypes(['object']).columns] = dt.select_dtypes(['object']).apply(lambda x: x.astype('category'))\n",
    "#     print(dt.dtypes)\n",
    "    \n",
    "    for col in dt:\n",
    "        if(dt[col].dtypes == 'category'):\n",
    "            dt[col] = dt[col].cat.codes\n",
    "#             dt[col] = dt[col].apply(lambda x: x.cat.codes)\n",
    "\n",
    "    return dt"
   ]
  },
  {
   "cell_type": "code",
   "execution_count": 7,
   "metadata": {},
   "outputs": [],
   "source": [
    "def predict(x_train,y_train,x_test,y_test):\n",
    "    \n",
    "    poly_features = PolynomialFeatures(degree=1, include_bias=False)\n",
    "\n",
    "    X_transform = poly_features.fit_transform(x_train)\n",
    "\n",
    "    model = LinearRegression()\n",
    "    model.fit(X_transform, y_train)  # Fit the model\n",
    "\n",
    "    X_test_transform = poly_features.fit_transform(x_test)\n",
    "    y_pred = model.predict(X_test_transform)\n",
    "\n",
    "    # Error analysis\n",
    "    sqerr = (y_test - y_pred) ** 2\n",
    "    mse = np.mean(sqerr)\n",
    "    \n",
    "    return mse"
   ]
  },
  {
   "cell_type": "code",
   "execution_count": 8,
   "metadata": {},
   "outputs": [],
   "source": [
    "def linearReg(x_train,y_train,x_test,y_test):\n",
    "    \n",
    "    x_train = prepareToLinearReg(x_train)\n",
    "    x_test = prepareToLinearReg(x_test)\n",
    "    mse = predict(x_train,y_train,x_test,y_test)\n",
    "    return mse"
   ]
  },
  {
   "cell_type": "markdown",
   "metadata": {},
   "source": [
    "# Bank data"
   ]
  },
  {
   "cell_type": "markdown",
   "metadata": {},
   "source": [
    "Split data to train set and test set. anonimize the train, build the model and use the rest that is not anonimize for test"
   ]
  },
  {
   "cell_type": "code",
   "execution_count": 9,
   "metadata": {},
   "outputs": [],
   "source": [
    "#The objective is to predict next month default (binary)\n",
    "y = bank.pop('default')\n",
    "y = y.replace({\"yes\": 1, \"no\": 0})"
   ]
  },
  {
   "cell_type": "code",
   "execution_count": 10,
   "metadata": {},
   "outputs": [],
   "source": [
    "offset = int(bank.shape[0] * 0.9)  # taking 90% for training, the rest for testing\n",
    "bank_x_train, bank_y_train = bank[:offset], y[:offset]\n",
    "bank_x_test, bank_y_test = bank[offset:], y[offset:]"
   ]
  },
  {
   "cell_type": "code",
   "execution_count": 11,
   "metadata": {},
   "outputs": [],
   "source": [
    "def BankGenralization(df,numberOfColToAnoni):\n",
    "    \n",
    "    temp_df = df.copy(deep=False)\n",
    "    \n",
    "    for i in range(0,numberOfColToAnoni):   \n",
    "        col= find_col(temp_df)[0]\n",
    "#         print(col)\n",
    "        temp_df.pop(col)\n",
    "        if(col == 'pdays'):\n",
    "            df['pdays'] = df['pdays'].apply(lambda pdays: 1 if pdays != -1 else pdays)\n",
    "        elif(col == 'balance'):\n",
    "            df['balance'] = df['balance'].apply(lambda balance: 'positive' if balance >= 0 else 'negative')\n",
    "        elif(col == 'duration'):\n",
    "            df['duration'] = df['duration'].apply(lambda duration: 'long' if duration >= 180 else 'short')\n",
    "        elif(col == 'age'):\n",
    "            df['age'] = df['age'].apply(lambda age: 'old' if age >= 40 else 'young')    \n",
    "        elif(col == 'day'):\n",
    "            df['day'] = df['day'].apply(lambda day: 1 if day >= 15.8 else 0)\n",
    "        elif(col == 'contact'):\n",
    "            df['contact'] = df['contact'].apply(lambda contact: 'unknown' if contact == 'unknown' else 'known')\n",
    "        elif(col == 'marital'):\n",
    "            df['marital'] = df['marital'].apply(lambda marital: 'married' if marital == 'married' else 'not married')\n",
    "        elif(col == 'job'):\n",
    "            df['job'] = df['job'].apply(lambda job:'no job' if job in ['unknown','retired','unemployed','student']  else 'has job')\n",
    "        elif(col =='education'):\n",
    "            df['education'] = df['education'].apply(lambda education:  1 if education == 'tertiary'  else 0)\n",
    "        elif(col == 'campaign'):\n",
    "            df['campaign'] = df['campaign'].apply(lambda campaign:'one' if campaign >=2  else 'some')\n",
    "        elif(col == 'previous'):\n",
    "            df['previous'] = df['previous'].apply(lambda previous:'none' if previous ==0  else 'some')\n",
    "        elif(col == 'month'):\n",
    "            df['month'] = df['month'].apply(lambda month: 0  if month in['jan','feb','mar','apr','may','jun']  else 1)\n",
    "        elif(col == 'poutcome'):\n",
    "            df['poutcome'] = df['poutcome'].apply(lambda poutcome:poutcome if poutcome =='success'  else 'failed')\n",
    "\n",
    "            \n",
    "    return df"
   ]
  },
  {
   "cell_type": "markdown",
   "metadata": {},
   "source": [
    "Learn the columns histogram"
   ]
  },
  {
   "cell_type": "code",
   "execution_count": 12,
   "metadata": {},
   "outputs": [
    {
     "name": "stdout",
     "output_type": "stream",
     "text": [
      "(40689, 16)\n"
     ]
    }
   ],
   "source": [
    "print(bank_x_train.shape)"
   ]
  },
  {
   "cell_type": "code",
   "execution_count": 13,
   "metadata": {},
   "outputs": [
    {
     "name": "stdout",
     "output_type": "stream",
     "text": [
      "count    45211.000000\n",
      "mean       258.163080\n",
      "std        257.527812\n",
      "min          0.000000\n",
      "25%        103.000000\n",
      "50%        180.000000\n",
      "75%        319.000000\n",
      "max       4918.000000\n",
      "Name: duration, dtype: float64\n",
      "count           45211\n",
      "unique             12\n",
      "top       blue-collar\n",
      "freq             9732\n",
      "Name: job, dtype: object\n",
      "count    45211.000000\n",
      "mean        40.936210\n",
      "std         10.618762\n",
      "min         18.000000\n",
      "25%         33.000000\n",
      "50%         39.000000\n",
      "75%         48.000000\n",
      "max         95.000000\n",
      "Name: age, dtype: float64\n",
      "count     45211.000000\n",
      "mean       1362.272058\n",
      "std        3044.765829\n",
      "min       -8019.000000\n",
      "25%          72.000000\n",
      "50%         448.000000\n",
      "75%        1428.000000\n",
      "max      102127.000000\n",
      "Name: balance, dtype: float64\n",
      "count    45211.000000\n",
      "mean        40.197828\n",
      "std        100.128746\n",
      "min         -1.000000\n",
      "25%         -1.000000\n",
      "50%         -1.000000\n",
      "75%         -1.000000\n",
      "max        871.000000\n",
      "Name: pdays, dtype: float64\n",
      "count    45211.000000\n",
      "mean        15.806419\n",
      "std          8.322476\n",
      "min          1.000000\n",
      "25%          8.000000\n",
      "50%         16.000000\n",
      "75%         21.000000\n",
      "max         31.000000\n",
      "Name: day, dtype: float64\n",
      "15.80641879188693\n"
     ]
    }
   ],
   "source": [
    "print(bank['duration'].describe())\n",
    "print(bank['job'].describe())\n",
    "# bank['job'].value_counts().reset_index(name='counts')\n",
    "print(bank['age'].describe())\n",
    "print(bank['balance'].describe())\n",
    "print(bank['pdays'].describe())\n",
    "print(bank['day'].describe())\n",
    "# print(bank['day'].value_counts())\n",
    "print(bank['day'].mean())\n",
    "# bank['month'].value_counts().reset_index(name='counts')"
   ]
  },
  {
   "cell_type": "markdown",
   "metadata": {},
   "source": [
    "# Bank Execution\n",
    "\n",
    "Loop by columns. Each time anonimize i number of columns. calculate k. if k increase - performe linear regression and find the MSE. "
   ]
  },
  {
   "cell_type": "code",
   "execution_count": 14,
   "metadata": {},
   "outputs": [
    {
     "name": "stdout",
     "output_type": "stream",
     "text": [
      "the k-annonimity is: 1\n"
     ]
    },
    {
     "name": "stderr",
     "output_type": "stream",
     "text": [
      "C:\\Users\\mpazchen\\AppData\\Local\\Temp\\ipykernel_26060\\1716443545.py:6: SettingWithCopyWarning: \n",
      "A value is trying to be set on a copy of a slice from a DataFrame.\n",
      "Try using .loc[row_indexer,col_indexer] = value instead\n",
      "\n",
      "See the caveats in the documentation: https://pandas.pydata.org/pandas-docs/stable/user_guide/indexing.html#returning-a-view-versus-a-copy\n",
      "  dt[dt.select_dtypes(['object']).columns] = dt.select_dtypes(['object']).apply(lambda x: x.astype('category'))\n",
      "C:\\Users\\mpazchen\\AppData\\Local\\Temp\\ipykernel_26060\\1716443545.py:11: SettingWithCopyWarning: \n",
      "A value is trying to be set on a copy of a slice from a DataFrame.\n",
      "Try using .loc[row_indexer,col_indexer] = value instead\n",
      "\n",
      "See the caveats in the documentation: https://pandas.pydata.org/pandas-docs/stable/user_guide/indexing.html#returning-a-view-versus-a-copy\n",
      "  dt[col] = dt[col].cat.codes\n"
     ]
    },
    {
     "name": "stdout",
     "output_type": "stream",
     "text": [
      "MSE: 220621.817806807 , RMSE: 469.70396826810713 current_k: 1\n",
      "the k-annonimity is: 1\n",
      "the k-annonimity is: 1\n",
      "the k-annonimity is: 1\n",
      "the k-annonimity is: 1\n",
      "the k-annonimity is: 1\n",
      "the k-annonimity is: 1\n",
      "the k-annonimity is: 1\n",
      "the k-annonimity is: 1\n",
      "the k-annonimity is: 1\n",
      "the k-annonimity is: 1\n",
      "the k-annonimity is: 1\n",
      "the k-annonimity is: 1\n",
      "the k-annonimity is: 1\n",
      "the k-annonimity is: 1\n"
     ]
    }
   ],
   "source": [
    "max_k = 0\n",
    "bank_msePerKDict={}\n",
    "\n",
    "for i in range(1,len(bank_x_train.columns)):\n",
    "    df = bank_x_train.copy(deep=False)\n",
    "    anonimiTrain = BankGenralization(df,i)\n",
    "    current_k = find_k_anonimity(anonimiTrain)\n",
    "    print(\"the k-annonimity is:\",current_k)\n",
    "    if(current_k > max_k):\n",
    "        mse = linearReg(anonimiTrain,bank_y_train,bank_x_test,bank_y_test)\n",
    "        print(\"MSE: {0} , RMSE: {1} current_k: {2}\".format(mse,np.sqrt(mse),current_k))\n",
    "        max_k = current_k\n",
    "        bank_msePerKDict[max_k] = mse"
   ]
  },
  {
   "cell_type": "markdown",
   "metadata": {},
   "source": [
    "# Heart Data"
   ]
  },
  {
   "cell_type": "code",
   "execution_count": 15,
   "metadata": {},
   "outputs": [],
   "source": [
    "#The objective is to predict heart disease\n",
    "y = heart.pop('HeartDisease')\n",
    "y = y.replace({\"Yes\": 1, \"No\": 0})"
   ]
  },
  {
   "cell_type": "code",
   "execution_count": 16,
   "metadata": {},
   "outputs": [],
   "source": [
    "offset = int(heart.shape[0] * 0.9)  # taking 90% for training, the rest for testing\n",
    "heart_x_train, heart_y_train = heart[:offset], y[:offset]\n",
    "heart_x_test, heart_y_test = heart[offset:], y[offset:]"
   ]
  },
  {
   "cell_type": "code",
   "execution_count": 17,
   "metadata": {},
   "outputs": [],
   "source": [
    "def HeartGenralization(df,numberOfColToAnoni):\n",
    "    \n",
    "    temp_df = df.copy(deep=False)\n",
    "    \n",
    "    for i in range(0,numberOfColToAnoni):   \n",
    "        col= find_col(temp_df)[0]\n",
    "#         print(col)\n",
    "        temp_df.pop(col)\n",
    "        if(col == 'SleepTime'):\n",
    "            df['SleepTime'] = df['SleepTime'].apply(lambda SleepTime: 1 if SleepTime >=7 else 0)\n",
    "        elif(col == 'GenHealth'):\n",
    "            df['GenHealth'] = df['GenHealth'].apply(lambda GenHealth: 'not good' if GenHealth == 'Fair' or GenHealth =='Poor' else 'good and better')\n",
    "        elif(col == 'Race'):\n",
    "            df['Race'] = df['Race'].apply(lambda Race:'white' if Race=='White' else 'not white')\n",
    "        elif(col == 'AgeCategory'):\n",
    "            df['AgeCategory'] = df['AgeCategory'].apply(lambda AgeCategory: '1' if AgeCategory in['65-69','60-64','70-74','55-59','50-54'] else '0')    \n",
    "        elif(col == 'MentalHealth'):\n",
    "            df['MentalHealth'] = df['MentalHealth'].apply(lambda MentalHealth: 1 if MentalHealth >0 else 0)\n",
    "        elif(col == 'PhysicalHealth'):\n",
    "            df['PhysicalHealth'] = df['PhysicalHealth'].apply(lambda PhysicalHealth:1 if PhysicalHealth>=27.34 else 0)\n",
    "        elif(col == 'BMI'):\n",
    "            df['BMI'] = df['BMI'].apply(lambda BMI:'normal BMI' if BMI>18.4 and BMI<24.9 else 'not normal')\n",
    "            \n",
    "    return df"
   ]
  },
  {
   "cell_type": "markdown",
   "metadata": {},
   "source": [
    "Investigate heart columns"
   ]
  },
  {
   "cell_type": "code",
   "execution_count": 18,
   "metadata": {},
   "outputs": [
    {
     "name": "stdout",
     "output_type": "stream",
     "text": [
      "(287815, 17)\n"
     ]
    }
   ],
   "source": [
    "print(heart_x_train.shape)"
   ]
  },
  {
   "cell_type": "code",
   "execution_count": 19,
   "metadata": {},
   "outputs": [
    {
     "data": {
      "text/html": [
       "<div>\n",
       "<style scoped>\n",
       "    .dataframe tbody tr th:only-of-type {\n",
       "        vertical-align: middle;\n",
       "    }\n",
       "\n",
       "    .dataframe tbody tr th {\n",
       "        vertical-align: top;\n",
       "    }\n",
       "\n",
       "    .dataframe thead th {\n",
       "        text-align: right;\n",
       "    }\n",
       "</style>\n",
       "<table border=\"1\" class=\"dataframe\">\n",
       "  <thead>\n",
       "    <tr style=\"text-align: right;\">\n",
       "      <th></th>\n",
       "      <th>BMI</th>\n",
       "      <th>Smoking</th>\n",
       "      <th>AlcoholDrinking</th>\n",
       "      <th>Stroke</th>\n",
       "      <th>PhysicalHealth</th>\n",
       "      <th>MentalHealth</th>\n",
       "      <th>DiffWalking</th>\n",
       "      <th>Sex</th>\n",
       "      <th>AgeCategory</th>\n",
       "      <th>Race</th>\n",
       "      <th>Diabetic</th>\n",
       "      <th>PhysicalActivity</th>\n",
       "      <th>GenHealth</th>\n",
       "      <th>SleepTime</th>\n",
       "      <th>Asthma</th>\n",
       "      <th>KidneyDisease</th>\n",
       "      <th>SkinCancer</th>\n",
       "    </tr>\n",
       "  </thead>\n",
       "  <tbody>\n",
       "    <tr>\n",
       "      <th>0</th>\n",
       "      <td>16.60</td>\n",
       "      <td>Yes</td>\n",
       "      <td>No</td>\n",
       "      <td>No</td>\n",
       "      <td>3.0</td>\n",
       "      <td>30.0</td>\n",
       "      <td>No</td>\n",
       "      <td>Female</td>\n",
       "      <td>55-59</td>\n",
       "      <td>White</td>\n",
       "      <td>Yes</td>\n",
       "      <td>Yes</td>\n",
       "      <td>Very good</td>\n",
       "      <td>5.0</td>\n",
       "      <td>Yes</td>\n",
       "      <td>No</td>\n",
       "      <td>Yes</td>\n",
       "    </tr>\n",
       "    <tr>\n",
       "      <th>1</th>\n",
       "      <td>20.34</td>\n",
       "      <td>No</td>\n",
       "      <td>No</td>\n",
       "      <td>Yes</td>\n",
       "      <td>0.0</td>\n",
       "      <td>0.0</td>\n",
       "      <td>No</td>\n",
       "      <td>Female</td>\n",
       "      <td>80 or older</td>\n",
       "      <td>White</td>\n",
       "      <td>No</td>\n",
       "      <td>Yes</td>\n",
       "      <td>Very good</td>\n",
       "      <td>7.0</td>\n",
       "      <td>No</td>\n",
       "      <td>No</td>\n",
       "      <td>No</td>\n",
       "    </tr>\n",
       "    <tr>\n",
       "      <th>2</th>\n",
       "      <td>26.58</td>\n",
       "      <td>Yes</td>\n",
       "      <td>No</td>\n",
       "      <td>No</td>\n",
       "      <td>20.0</td>\n",
       "      <td>30.0</td>\n",
       "      <td>No</td>\n",
       "      <td>Male</td>\n",
       "      <td>65-69</td>\n",
       "      <td>White</td>\n",
       "      <td>Yes</td>\n",
       "      <td>Yes</td>\n",
       "      <td>Fair</td>\n",
       "      <td>8.0</td>\n",
       "      <td>Yes</td>\n",
       "      <td>No</td>\n",
       "      <td>No</td>\n",
       "    </tr>\n",
       "    <tr>\n",
       "      <th>3</th>\n",
       "      <td>24.21</td>\n",
       "      <td>No</td>\n",
       "      <td>No</td>\n",
       "      <td>No</td>\n",
       "      <td>0.0</td>\n",
       "      <td>0.0</td>\n",
       "      <td>No</td>\n",
       "      <td>Female</td>\n",
       "      <td>75-79</td>\n",
       "      <td>White</td>\n",
       "      <td>No</td>\n",
       "      <td>No</td>\n",
       "      <td>Good</td>\n",
       "      <td>6.0</td>\n",
       "      <td>No</td>\n",
       "      <td>No</td>\n",
       "      <td>Yes</td>\n",
       "    </tr>\n",
       "    <tr>\n",
       "      <th>4</th>\n",
       "      <td>23.71</td>\n",
       "      <td>No</td>\n",
       "      <td>No</td>\n",
       "      <td>No</td>\n",
       "      <td>28.0</td>\n",
       "      <td>0.0</td>\n",
       "      <td>Yes</td>\n",
       "      <td>Female</td>\n",
       "      <td>40-44</td>\n",
       "      <td>White</td>\n",
       "      <td>No</td>\n",
       "      <td>Yes</td>\n",
       "      <td>Very good</td>\n",
       "      <td>8.0</td>\n",
       "      <td>No</td>\n",
       "      <td>No</td>\n",
       "      <td>No</td>\n",
       "    </tr>\n",
       "    <tr>\n",
       "      <th>...</th>\n",
       "      <td>...</td>\n",
       "      <td>...</td>\n",
       "      <td>...</td>\n",
       "      <td>...</td>\n",
       "      <td>...</td>\n",
       "      <td>...</td>\n",
       "      <td>...</td>\n",
       "      <td>...</td>\n",
       "      <td>...</td>\n",
       "      <td>...</td>\n",
       "      <td>...</td>\n",
       "      <td>...</td>\n",
       "      <td>...</td>\n",
       "      <td>...</td>\n",
       "      <td>...</td>\n",
       "      <td>...</td>\n",
       "      <td>...</td>\n",
       "    </tr>\n",
       "    <tr>\n",
       "      <th>287810</th>\n",
       "      <td>31.25</td>\n",
       "      <td>No</td>\n",
       "      <td>No</td>\n",
       "      <td>No</td>\n",
       "      <td>0.0</td>\n",
       "      <td>0.0</td>\n",
       "      <td>No</td>\n",
       "      <td>Male</td>\n",
       "      <td>35-39</td>\n",
       "      <td>White</td>\n",
       "      <td>No</td>\n",
       "      <td>Yes</td>\n",
       "      <td>Excellent</td>\n",
       "      <td>7.0</td>\n",
       "      <td>Yes</td>\n",
       "      <td>No</td>\n",
       "      <td>No</td>\n",
       "    </tr>\n",
       "    <tr>\n",
       "      <th>287811</th>\n",
       "      <td>30.81</td>\n",
       "      <td>Yes</td>\n",
       "      <td>No</td>\n",
       "      <td>No</td>\n",
       "      <td>2.0</td>\n",
       "      <td>4.0</td>\n",
       "      <td>No</td>\n",
       "      <td>Male</td>\n",
       "      <td>40-44</td>\n",
       "      <td>White</td>\n",
       "      <td>No</td>\n",
       "      <td>No</td>\n",
       "      <td>Good</td>\n",
       "      <td>12.0</td>\n",
       "      <td>No</td>\n",
       "      <td>No</td>\n",
       "      <td>No</td>\n",
       "    </tr>\n",
       "    <tr>\n",
       "      <th>287812</th>\n",
       "      <td>26.61</td>\n",
       "      <td>Yes</td>\n",
       "      <td>No</td>\n",
       "      <td>No</td>\n",
       "      <td>0.0</td>\n",
       "      <td>0.0</td>\n",
       "      <td>No</td>\n",
       "      <td>Female</td>\n",
       "      <td>60-64</td>\n",
       "      <td>White</td>\n",
       "      <td>No</td>\n",
       "      <td>Yes</td>\n",
       "      <td>Excellent</td>\n",
       "      <td>6.0</td>\n",
       "      <td>No</td>\n",
       "      <td>No</td>\n",
       "      <td>No</td>\n",
       "    </tr>\n",
       "    <tr>\n",
       "      <th>287813</th>\n",
       "      <td>28.25</td>\n",
       "      <td>Yes</td>\n",
       "      <td>No</td>\n",
       "      <td>No</td>\n",
       "      <td>0.0</td>\n",
       "      <td>10.0</td>\n",
       "      <td>No</td>\n",
       "      <td>Male</td>\n",
       "      <td>60-64</td>\n",
       "      <td>White</td>\n",
       "      <td>No</td>\n",
       "      <td>Yes</td>\n",
       "      <td>Very good</td>\n",
       "      <td>8.0</td>\n",
       "      <td>No</td>\n",
       "      <td>No</td>\n",
       "      <td>No</td>\n",
       "    </tr>\n",
       "    <tr>\n",
       "      <th>287814</th>\n",
       "      <td>30.13</td>\n",
       "      <td>No</td>\n",
       "      <td>No</td>\n",
       "      <td>No</td>\n",
       "      <td>2.0</td>\n",
       "      <td>4.0</td>\n",
       "      <td>No</td>\n",
       "      <td>Male</td>\n",
       "      <td>18-24</td>\n",
       "      <td>White</td>\n",
       "      <td>No</td>\n",
       "      <td>Yes</td>\n",
       "      <td>Very good</td>\n",
       "      <td>9.0</td>\n",
       "      <td>No</td>\n",
       "      <td>No</td>\n",
       "      <td>No</td>\n",
       "    </tr>\n",
       "  </tbody>\n",
       "</table>\n",
       "<p>287815 rows × 17 columns</p>\n",
       "</div>"
      ],
      "text/plain": [
       "          BMI Smoking AlcoholDrinking Stroke  PhysicalHealth  MentalHealth  \\\n",
       "0       16.60     Yes              No     No             3.0          30.0   \n",
       "1       20.34      No              No    Yes             0.0           0.0   \n",
       "2       26.58     Yes              No     No            20.0          30.0   \n",
       "3       24.21      No              No     No             0.0           0.0   \n",
       "4       23.71      No              No     No            28.0           0.0   \n",
       "...       ...     ...             ...    ...             ...           ...   \n",
       "287810  31.25      No              No     No             0.0           0.0   \n",
       "287811  30.81     Yes              No     No             2.0           4.0   \n",
       "287812  26.61     Yes              No     No             0.0           0.0   \n",
       "287813  28.25     Yes              No     No             0.0          10.0   \n",
       "287814  30.13      No              No     No             2.0           4.0   \n",
       "\n",
       "       DiffWalking     Sex  AgeCategory   Race Diabetic PhysicalActivity  \\\n",
       "0               No  Female        55-59  White      Yes              Yes   \n",
       "1               No  Female  80 or older  White       No              Yes   \n",
       "2               No    Male        65-69  White      Yes              Yes   \n",
       "3               No  Female        75-79  White       No               No   \n",
       "4              Yes  Female        40-44  White       No              Yes   \n",
       "...            ...     ...          ...    ...      ...              ...   \n",
       "287810          No    Male        35-39  White       No              Yes   \n",
       "287811          No    Male        40-44  White       No               No   \n",
       "287812          No  Female        60-64  White       No              Yes   \n",
       "287813          No    Male        60-64  White       No              Yes   \n",
       "287814          No    Male        18-24  White       No              Yes   \n",
       "\n",
       "        GenHealth  SleepTime Asthma KidneyDisease SkinCancer  \n",
       "0       Very good        5.0    Yes            No        Yes  \n",
       "1       Very good        7.0     No            No         No  \n",
       "2            Fair        8.0    Yes            No         No  \n",
       "3            Good        6.0     No            No        Yes  \n",
       "4       Very good        8.0     No            No         No  \n",
       "...           ...        ...    ...           ...        ...  \n",
       "287810  Excellent        7.0    Yes            No         No  \n",
       "287811       Good       12.0     No            No         No  \n",
       "287812  Excellent        6.0     No            No         No  \n",
       "287813  Very good        8.0     No            No         No  \n",
       "287814  Very good        9.0     No            No         No  \n",
       "\n",
       "[287815 rows x 17 columns]"
      ]
     },
     "execution_count": 19,
     "metadata": {},
     "output_type": "execute_result"
    }
   ],
   "source": [
    "heart_x_train"
   ]
  },
  {
   "cell_type": "code",
   "execution_count": 20,
   "metadata": {},
   "outputs": [
    {
     "name": "stdout",
     "output_type": "stream",
     "text": [
      "SleepTime count    319795.000000\n",
      "mean          7.097075\n",
      "std           1.436007\n",
      "min           1.000000\n",
      "25%           6.000000\n",
      "50%           7.000000\n",
      "75%           8.000000\n",
      "max          24.000000\n",
      "Name: SleepTime, dtype: float64\n",
      "GenHealth count        319795\n",
      "unique            5\n",
      "top       Very good\n",
      "freq         113858\n",
      "Name: GenHealth, dtype: object\n",
      "Race count     319795\n",
      "unique         6\n",
      "top        White\n",
      "freq      245212\n",
      "Name: Race, dtype: object\n",
      "AgeCategory count     319795\n",
      "unique        13\n",
      "top        65-69\n",
      "freq       34151\n",
      "Name: AgeCategory, dtype: object\n",
      "65-69          34151\n",
      "60-64          33686\n",
      "70-74          31065\n",
      "55-59          29757\n",
      "50-54          25382\n",
      "80 or older    24153\n",
      "45-49          21791\n",
      "75-79          21482\n",
      "18-24          21064\n",
      "40-44          21006\n",
      "35-39          20550\n",
      "30-34          18753\n",
      "25-29          16955\n",
      "Name: AgeCategory, dtype: int64\n",
      "MentalHealth count    319795.000000\n",
      "mean          3.898366\n",
      "std           7.955235\n",
      "min           0.000000\n",
      "25%           0.000000\n",
      "50%           0.000000\n",
      "75%           3.000000\n",
      "max          30.000000\n",
      "Name: MentalHealth, dtype: float64\n",
      "PhysicalHealth count    319795.00000\n",
      "mean          3.37171\n",
      "std           7.95085\n",
      "min           0.00000\n",
      "25%           0.00000\n",
      "50%           0.00000\n",
      "75%           2.00000\n",
      "max          30.00000\n",
      "Name: PhysicalHealth, dtype: float64\n",
      "BMI count    319795.000000\n",
      "mean         28.325399\n",
      "std           6.356100\n",
      "min          12.020000\n",
      "25%          24.030000\n",
      "50%          27.340000\n",
      "75%          31.420000\n",
      "max          94.850000\n",
      "Name: BMI, dtype: float64\n",
      "28.325398520926328\n"
     ]
    }
   ],
   "source": [
    "print(\"SleepTime\",heart['SleepTime'].describe())\n",
    "# # bank['duration'].hist()\n",
    "\n",
    "print(\"GenHealth\",heart['GenHealth'].describe())\n",
    "# bank['job'].value_counts().reset_index(name='counts')\n",
    "\n",
    "print(\"Race\",heart['Race'].describe())\n",
    "\n",
    "\n",
    "print(\"AgeCategory\",heart['AgeCategory'].describe())\n",
    "print(heart['AgeCategory'].value_counts())\n",
    "\n",
    "print(\"MentalHealth\",heart['MentalHealth'].describe())\n",
    "\n",
    "print(\"PhysicalHealth\", heart['PhysicalHealth'].describe())\n",
    "\n",
    "print(\"BMI\",heart['BMI'].describe())\n",
    "# print(heart['BMI'].hist())\n",
    "print(heart['BMI'].mean())"
   ]
  },
  {
   "cell_type": "markdown",
   "metadata": {},
   "source": [
    "# Heart Execution\n",
    "\n",
    "Loop by columns. Each time anonimize i number of columns. calculate k. if k increase - performe linear regression and find the MSE. "
   ]
  },
  {
   "cell_type": "code",
   "execution_count": 21,
   "metadata": {},
   "outputs": [
    {
     "name": "stdout",
     "output_type": "stream",
     "text": [
      "the k-annonimity is: 1\n"
     ]
    },
    {
     "name": "stderr",
     "output_type": "stream",
     "text": [
      "C:\\Users\\mpazchen\\AppData\\Local\\Temp\\ipykernel_26060\\1716443545.py:6: SettingWithCopyWarning: \n",
      "A value is trying to be set on a copy of a slice from a DataFrame.\n",
      "Try using .loc[row_indexer,col_indexer] = value instead\n",
      "\n",
      "See the caveats in the documentation: https://pandas.pydata.org/pandas-docs/stable/user_guide/indexing.html#returning-a-view-versus-a-copy\n",
      "  dt[dt.select_dtypes(['object']).columns] = dt.select_dtypes(['object']).apply(lambda x: x.astype('category'))\n",
      "C:\\Users\\mpazchen\\AppData\\Local\\Temp\\ipykernel_26060\\1716443545.py:11: SettingWithCopyWarning: \n",
      "A value is trying to be set on a copy of a slice from a DataFrame.\n",
      "Try using .loc[row_indexer,col_indexer] = value instead\n",
      "\n",
      "See the caveats in the documentation: https://pandas.pydata.org/pandas-docs/stable/user_guide/indexing.html#returning-a-view-versus-a-copy\n",
      "  dt[col] = dt[col].cat.codes\n"
     ]
    },
    {
     "name": "stdout",
     "output_type": "stream",
     "text": [
      "MSE: 0.06975988653677616 , RMSE: 0.26412096951354724 current_k: 1\n",
      "the k-annonimity is: 1\n",
      "the k-annonimity is: 1\n",
      "the k-annonimity is: 1\n",
      "the k-annonimity is: 1\n",
      "the k-annonimity is: 1\n",
      "the k-annonimity is: 1\n",
      "the k-annonimity is: 1\n",
      "the k-annonimity is: 1\n",
      "the k-annonimity is: 1\n",
      "the k-annonimity is: 1\n",
      "the k-annonimity is: 1\n",
      "the k-annonimity is: 1\n",
      "the k-annonimity is: 1\n",
      "the k-annonimity is: 1\n",
      "the k-annonimity is: 1\n"
     ]
    }
   ],
   "source": [
    "max_k = 0\n",
    "heart_msePerKDict={}\n",
    "\n",
    "for i in range(1,len(heart_x_train.columns)):\n",
    "    df = heart_x_train.copy(deep=False)\n",
    "    anonimiTrain = HeartGenralization(df,i)\n",
    "    current_k = find_k_anonimity(anonimiTrain)\n",
    "    print(\"the k-annonimity is:\",current_k)\n",
    "    if(current_k > max_k):\n",
    "        mse = linearReg(anonimiTrain,heart_y_train,heart_x_test,heart_y_test)\n",
    "        print(\"MSE: {0} , RMSE: {1} current_k: {2}\".format(mse,np.sqrt(mse),current_k))\n",
    "        max_k = current_k\n",
    "        heart_msePerKDict[max_k] = mse\n",
    "        \n",
    "# find_k_anonimity2(heart_x_train)        "
   ]
  },
  {
   "cell_type": "markdown",
   "metadata": {},
   "source": [
    "# Draw MSE by K"
   ]
  },
  {
   "cell_type": "code",
   "execution_count": 22,
   "metadata": {},
   "outputs": [],
   "source": [
    "df1 = pd.DataFrame(heart_msePerKDict.items(), columns=['K', 'MSE'])\n",
    "# print(df1)\n",
    "df2 = pd.DataFrame(bank_msePerKDict.items(), columns=['K', 'MSE'])\n",
    "# print(df2)\n",
    "df1['Data']='heart'\n",
    "df2['Data']='bank'"
   ]
  },
  {
   "cell_type": "code",
   "execution_count": 23,
   "metadata": {},
   "outputs": [
    {
     "name": "stderr",
     "output_type": "stream",
     "text": [
      "C:\\Users\\mpazchen\\AppData\\Local\\Temp\\ipykernel_26060\\904875836.py:1: FutureWarning: The frame.append method is deprecated and will be removed from pandas in a future version. Use pandas.concat instead.\n",
      "  sns.scatterplot(x='K', y='MSE', hue='Data', data=df1.append(df2), palette=['Red', 'Blue'])\n"
     ]
    },
    {
     "data": {
      "image/png": "[encoded data removed]",
      "text/plain": [
       "<Figure size 432x288 with 1 Axes>"
      ]
     },
     "metadata": {
      "needs_background": "light"
     },
     "output_type": "display_data"
    }
   ],
   "source": [
    "sns.scatterplot(x='K', y='MSE', hue='Data', data=df1.append(df2), palette=['Red', 'Blue'])\n",
    "plt.title('MSE by K')\n",
    "plt.show()"
   ]
  },
  {
   "cell_type": "code",
   "execution_count": null,
   "metadata": {},
   "outputs": [],
   "source": []
  }
 ],
 "metadata": {
  "kernelspec": {
   "display_name": "Python 3 (ipykernel)",
   "language": "python",
   "name": "python3"
  },
  "language_info": {
   "codemirror_mode": {
    "name": "ipython",
    "version": 3
   },
   "file_extension": ".py",
   "mimetype": "text/x-python",
   "name": "python",
   "nbconvert_exporter": "python",
   "pygments_lexer": "ipython3",
   "version": "3.9.12"
  },
  "vscode": {
   "interpreter": {
    "hash": "8c3d4d9970fc5c09c50d9318a9c7fbf4d0159e4b28833276f5678ee22bded273"
   }
  }
 },
 "nbformat": 4,
 "nbformat_minor": 2
}
